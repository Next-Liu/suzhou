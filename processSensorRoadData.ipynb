{
 "cells": [
  {
   "cell_type": "code",
   "execution_count": 1,
   "outputs": [],
   "source": [
    "import pandas as pd\n",
    "import numpy as np\n",
    "import geopandas as gpd\n",
    "import matplotlib.pyplot as plt\n",
    "import seaborn as sns"
   ],
   "metadata": {
    "collapsed": false,
    "ExecuteTime": {
     "end_time": "2025-03-13T09:43:28.992295600Z",
     "start_time": "2025-03-13T09:43:28.676710900Z"
    }
   }
  },
  {
   "cell_type": "code",
   "execution_count": 17,
   "outputs": [
    {
     "data": {
      "text/plain": "0     32050617041320001291\n1     32050000001320002392\n2     32050000001320001229\n3     32050000001320001233\n4     32050204041320002359\n5     32050204041320002365\n6     32050204041320002371\n7     32050204041320002355\n8     32050204041320002375\n9     32050000001320002533\n10    32050617041320002020\n11    32050617041320002234\n12    32050617041320002233\n13    32050000001320002537\n14    32050000001320002535\n15    32050000001320002529\n16    32058117881320001953\n17    32058117881320002299\n18    32058117881320002395\n19    32058117881320000454\n20    32058117881320002437\n21    32058117881320000988\n22    32058117881320000471\n23    32058117881320002005\n24    32058117881320002385\n25    32058200001310187873\n26    32058117881320002172\n27    32058117881320002117\n28    32050202041320001820\n29    32050202041320002260\n30    32050202041320002237\n31    32050202041320002235\n32    32050202041320002028\n33    32050202041320002026\n34    32050204041320001632\n35    32050204041320001630\n36    32050204041320001616\n37    32050204041320001624\n38    32050204041320001626\n39    32050204041320001025\n40    32050204041320001021\n41    32050204041320001031\n42    32058217881320000799\n43    32058201881320000220\n44    32058201881320000398\n45    32058200001320000003\n46    32050817041320001244\n47    32058253001320000745\n48    32058251001310000003\n49    32058201881320000364\nName: device_id, dtype: object"
     },
     "execution_count": 17,
     "metadata": {},
     "output_type": "execute_result"
    }
   ],
   "source": [
    "sensorDf = pd.read_csv('../suzhou/data/人工匹配卡口数据-V2.csv')\n",
    "#sensorDf['ID'][:50]\n",
    "sensorDf['device_id'][:50]"
   ],
   "metadata": {
    "collapsed": false,
    "ExecuteTime": {
     "end_time": "2025-03-13T09:58:23.702870700Z",
     "start_time": "2025-03-13T09:58:23.665342800Z"
    }
   }
  },
  {
   "cell_type": "code",
   "execution_count": 4,
   "outputs": [
    {
     "name": "stdout",
     "output_type": "stream",
     "text": [
      "(421553, 10)\n",
      "<class 'geopandas.geodataframe.GeoDataFrame'>\n"
     ]
    },
    {
     "data": {
      "text/plain": "Empty GeoDataFrame\nColumns: [ID, KIND, WIDTH, DIRECTION, FUNCCLASS, LENGTH, SPEEDCLASS, PHYLANES2E, PHYLANEE2S, geometry]\nIndex: []",
      "text/html": "<div>\n<style scoped>\n    .dataframe tbody tr th:only-of-type {\n        vertical-align: middle;\n    }\n\n    .dataframe tbody tr th {\n        vertical-align: top;\n    }\n\n    .dataframe thead th {\n        text-align: right;\n    }\n</style>\n<table border=\"1\" class=\"dataframe\">\n  <thead>\n    <tr style=\"text-align: right;\">\n      <th></th>\n      <th>ID</th>\n      <th>KIND</th>\n      <th>WIDTH</th>\n      <th>DIRECTION</th>\n      <th>FUNCCLASS</th>\n      <th>LENGTH</th>\n      <th>SPEEDCLASS</th>\n      <th>PHYLANES2E</th>\n      <th>PHYLANEE2S</th>\n      <th>geometry</th>\n    </tr>\n  </thead>\n  <tbody>\n  </tbody>\n</table>\n</div>"
     },
     "execution_count": 4,
     "metadata": {},
     "output_type": "execute_result"
    }
   ],
   "source": [
    "#路网数据\n",
    "originRoad = gpd.read_file(\"../suzhou/data/原始数据/road/苏州.shp\")\n",
    "originRoad = originRoad[['ID', 'KIND', 'WIDTH', 'DIRECTION', 'FUNCCLASS', 'LENGTH', 'SPEEDCLASS', 'PHYLANES2E', 'PHYLANEE2S', 'geometry']]\n",
    "print(originRoad.shape)\n",
    "print(type(originRoad))\n",
    "#查找originalRoad中ID字段为1的数据"
   ],
   "metadata": {
    "collapsed": false,
    "ExecuteTime": {
     "end_time": "2025-03-13T09:47:44.837760600Z",
     "start_time": "2025-03-13T09:47:15.459982100Z"
    }
   }
  },
  {
   "cell_type": "code",
   "execution_count": 10,
   "outputs": [
    {
     "name": "stdout",
     "output_type": "stream",
     "text": [
      "0\n"
     ]
    }
   ],
   "source": [
    "print(originRoad.duplicated().sum())  # 检查重复行的数量"
   ],
   "metadata": {
    "collapsed": false,
    "ExecuteTime": {
     "end_time": "2025-03-13T09:53:22.046949900Z",
     "start_time": "2025-03-13T09:53:13.672685Z"
    }
   }
  },
  {
   "cell_type": "code",
   "execution_count": 9,
   "outputs": [
    {
     "name": "stdout",
     "output_type": "stream",
     "text": [
      "(421553, 10)\n"
     ]
    }
   ],
   "source": [
    "print(originRoad.shape)\n",
    "#将originRoad中所有字段写入CSV文件\n",
    "originRoad.to_csv(\"../suzhou/data/苏州_路网数据.csv\", index=False, encoding='utf-8')"
   ],
   "metadata": {
    "collapsed": false,
    "ExecuteTime": {
     "end_time": "2025-03-13T09:51:10.036741200Z",
     "start_time": "2025-03-13T09:51:04.176659900Z"
    }
   }
  },
  {
   "cell_type": "code",
   "execution_count": 18,
   "outputs": [
    {
     "name": "stdout",
     "output_type": "stream",
     "text": [
      "ID              int64\n",
      "KIND           object\n",
      "WIDTH           int64\n",
      "DIRECTION       int64\n",
      "FUNCCLASS       int64\n",
      "LENGTH        float64\n",
      "SPEEDCLASS      int64\n",
      "PHYLANES2E      int64\n",
      "PHYLANEE2S      int64\n",
      "geometry       object\n",
      "dtype: object\n",
      "device_id     object\n",
      "num            int64\n",
      "location      object\n",
      "ID           float64\n",
      "dtype: object\n"
     ]
    }
   ],
   "source": [
    "originRoadCsv = pd.read_csv(\"../suzhou/data/苏州_路网数据.csv\")\n",
    "originRoadCsv[originRoad['ID'] == \"4158550\"]\n",
    "#查看每列的数据类型\n",
    "print(originRoadCsv.dtypes)\n",
    "print(sensorDf.dtypes)"
   ],
   "metadata": {
    "collapsed": false,
    "ExecuteTime": {
     "end_time": "2025-03-13T09:58:27.737013300Z",
     "start_time": "2025-03-13T09:58:27.081934Z"
    }
   }
  },
  {
   "cell_type": "code",
   "execution_count": 20,
   "outputs": [],
   "source": [
    "#将路网数据和卡口流量数据进行合并\n",
    "# 将 ID 字段统一为同一类型\n",
    "originRoadCsv['ID'] = originRoadCsv['ID'].astype(float)  # 将 originRoadCsv 的 ID 转为 float\n",
    "sensorDf['ID'] = sensorDf['ID'].astype(float)  # 将 sensorDf 的 ID 转为 float\n",
    "# 以 ID 为中介，将 sensorDf 的 deviceId 列拼接到 originRoadCsv 后\n",
    "originRoadCsv = pd.merge(originRoadCsv,  sensorDf[['ID', 'device_id']], on='ID', how='left')\n",
    "# 保存结果到新文件（可选）\n",
    "originRoadCsv.to_csv(\"../suzhou/data/苏州_路网数据_带卡口.csv\", index=False)"
   ],
   "metadata": {
    "collapsed": false,
    "ExecuteTime": {
     "end_time": "2025-03-13T10:03:45.559310300Z",
     "start_time": "2025-03-13T10:03:43.649255300Z"
    }
   }
  },
  {
   "cell_type": "code",
   "execution_count": 22,
   "outputs": [
    {
     "data": {
      "text/plain": "               ID  KIND  WIDTH  DIRECTION  FUNCCLASS  LENGTH  SPEEDCLASS  \\\n164559  4158550.0  0601     55          1          5   0.109           6   \n\n        PHYLANES2E  PHYLANEE2S  \\\n164559           1           1   \n\n                                                 geometry  \\\n164559  LINESTRING Z (120.52720999999998 31.16519 0, 1...   \n\n                   device_id  \n164559  32050000001320002392  ",
      "text/html": "<div>\n<style scoped>\n    .dataframe tbody tr th:only-of-type {\n        vertical-align: middle;\n    }\n\n    .dataframe tbody tr th {\n        vertical-align: top;\n    }\n\n    .dataframe thead th {\n        text-align: right;\n    }\n</style>\n<table border=\"1\" class=\"dataframe\">\n  <thead>\n    <tr style=\"text-align: right;\">\n      <th></th>\n      <th>ID</th>\n      <th>KIND</th>\n      <th>WIDTH</th>\n      <th>DIRECTION</th>\n      <th>FUNCCLASS</th>\n      <th>LENGTH</th>\n      <th>SPEEDCLASS</th>\n      <th>PHYLANES2E</th>\n      <th>PHYLANEE2S</th>\n      <th>geometry</th>\n      <th>device_id</th>\n    </tr>\n  </thead>\n  <tbody>\n    <tr>\n      <th>164559</th>\n      <td>4158550.0</td>\n      <td>0601</td>\n      <td>55</td>\n      <td>1</td>\n      <td>5</td>\n      <td>0.109</td>\n      <td>6</td>\n      <td>1</td>\n      <td>1</td>\n      <td>LINESTRING Z (120.52720999999998 31.16519 0, 1...</td>\n      <td>32050000001320002392</td>\n    </tr>\n  </tbody>\n</table>\n</div>"
     },
     "execution_count": 22,
     "metadata": {},
     "output_type": "execute_result"
    }
   ],
   "source": [
    "firstProcessRoadCsv = pd.read_csv(\"../suzhou/data/苏州_路网数据_带卡口.csv\")\n",
    "firstProcessRoadCsv[firstProcessRoadCsv['ID'] == 4158550]"
   ],
   "metadata": {
    "collapsed": false,
    "ExecuteTime": {
     "end_time": "2025-03-13T10:05:12.049671100Z",
     "start_time": "2025-03-13T10:05:11.350560Z"
    }
   }
  },
  {
   "cell_type": "code",
   "execution_count": 24,
   "outputs": [
    {
     "data": {
      "text/plain": "               ID  KIND  WIDTH  DIRECTION  FUNCCLASS  LENGTH  SPEEDCLASS  \\\n164559  4158550.0  0601     55          1          5   0.109           6   \n\n        PHYLANES2E  PHYLANEE2S  \\\n164559           1           1   \n\n                                                 geometry  \\\n164559  LINESTRING Z (120.52720999999998 31.16519 0, 1...   \n\n                   device_id  \n164559  32050000001320002392  ",
      "text/html": "<div>\n<style scoped>\n    .dataframe tbody tr th:only-of-type {\n        vertical-align: middle;\n    }\n\n    .dataframe tbody tr th {\n        vertical-align: top;\n    }\n\n    .dataframe thead th {\n        text-align: right;\n    }\n</style>\n<table border=\"1\" class=\"dataframe\">\n  <thead>\n    <tr style=\"text-align: right;\">\n      <th></th>\n      <th>ID</th>\n      <th>KIND</th>\n      <th>WIDTH</th>\n      <th>DIRECTION</th>\n      <th>FUNCCLASS</th>\n      <th>LENGTH</th>\n      <th>SPEEDCLASS</th>\n      <th>PHYLANES2E</th>\n      <th>PHYLANEE2S</th>\n      <th>geometry</th>\n      <th>device_id</th>\n    </tr>\n  </thead>\n  <tbody>\n    <tr>\n      <th>164559</th>\n      <td>4158550.0</td>\n      <td>0601</td>\n      <td>55</td>\n      <td>1</td>\n      <td>5</td>\n      <td>0.109</td>\n      <td>6</td>\n      <td>1</td>\n      <td>1</td>\n      <td>LINESTRING Z (120.52720999999998 31.16519 0, 1...</td>\n      <td>32050000001320002392</td>\n    </tr>\n  </tbody>\n</table>\n</div>"
     },
     "execution_count": 24,
     "metadata": {},
     "output_type": "execute_result"
    }
   ],
   "source": [
    "firstProcessRoadCsv[firstProcessRoadCsv['device_id'] == \"32050000001320002392\"]"
   ],
   "metadata": {
    "collapsed": false,
    "ExecuteTime": {
     "end_time": "2025-03-13T13:18:14.206313200Z",
     "start_time": "2025-03-13T13:18:14.183073300Z"
    }
   }
  },
  {
   "cell_type": "code",
   "execution_count": 30,
   "outputs": [
    {
     "name": "stdout",
     "output_type": "stream",
     "text": [
      "             DeviceID  Quantity\n",
      "0  123456789123456789       120\n"
     ]
    },
    {
     "ename": "ValueError",
     "evalue": "could not convert string to float: 'EjIFBQAAABMgIA=='",
     "output_type": "error",
     "traceback": [
      "\u001B[1;31m---------------------------------------------------------------------------\u001B[0m",
      "\u001B[1;31mValueError\u001B[0m                                Traceback (most recent call last)",
      "\u001B[1;32m<ipython-input-30-0688cbb2ef50>\u001B[0m in \u001B[0;36m<module>\u001B[1;34m\u001B[0m\n\u001B[0;32m      1\u001B[0m \u001B[0mvolume\u001B[0m \u001B[1;33m=\u001B[0m \u001B[0mpd\u001B[0m\u001B[1;33m.\u001B[0m\u001B[0mread_csv\u001B[0m\u001B[1;33m(\u001B[0m\u001B[1;34m\"../suzhou/2021/09-01/00.csv\"\u001B[0m\u001B[1;33m)\u001B[0m\u001B[1;33m\u001B[0m\u001B[1;33m\u001B[0m\u001B[0m\n\u001B[0;32m      2\u001B[0m \u001B[0mprint\u001B[0m\u001B[1;33m(\u001B[0m\u001B[0mvolume\u001B[0m\u001B[1;33m[\u001B[0m\u001B[0mvolume\u001B[0m\u001B[1;33m[\u001B[0m\u001B[1;34m'DeviceID'\u001B[0m\u001B[1;33m]\u001B[0m\u001B[1;33m==\u001B[0m\u001B[1;34m\"123456789123456789\"\u001B[0m\u001B[1;33m]\u001B[0m\u001B[1;33m)\u001B[0m\u001B[1;33m\u001B[0m\u001B[1;33m\u001B[0m\u001B[0m\n\u001B[1;32m----> 3\u001B[1;33m \u001B[0mvolume\u001B[0m\u001B[1;33m[\u001B[0m\u001B[1;34m'DeviceID'\u001B[0m\u001B[1;33m]\u001B[0m \u001B[1;33m=\u001B[0m \u001B[0mvolume\u001B[0m\u001B[1;33m[\u001B[0m\u001B[1;34m'DeviceID'\u001B[0m\u001B[1;33m]\u001B[0m\u001B[1;33m.\u001B[0m\u001B[0mastype\u001B[0m\u001B[1;33m(\u001B[0m\u001B[0mfloat\u001B[0m\u001B[1;33m)\u001B[0m\u001B[1;33m\u001B[0m\u001B[1;33m\u001B[0m\u001B[0m\n\u001B[0m\u001B[0;32m      4\u001B[0m \u001B[0mprint\u001B[0m\u001B[1;33m(\u001B[0m\u001B[0mvolume\u001B[0m\u001B[1;33m.\u001B[0m\u001B[0mdtypes\u001B[0m\u001B[1;33m)\u001B[0m\u001B[1;33m\u001B[0m\u001B[1;33m\u001B[0m\u001B[0m\n",
      "\u001B[1;32mC:\\Anaconda\\envs\\CTVI\\lib\\site-packages\\pandas\\core\\generic.py\u001B[0m in \u001B[0;36mastype\u001B[1;34m(self, dtype, copy, errors)\u001B[0m\n\u001B[0;32m   5546\u001B[0m         \u001B[1;32melse\u001B[0m\u001B[1;33m:\u001B[0m\u001B[1;33m\u001B[0m\u001B[1;33m\u001B[0m\u001B[0m\n\u001B[0;32m   5547\u001B[0m             \u001B[1;31m# else, only a single dtype is given\u001B[0m\u001B[1;33m\u001B[0m\u001B[1;33m\u001B[0m\u001B[1;33m\u001B[0m\u001B[0m\n\u001B[1;32m-> 5548\u001B[1;33m             \u001B[0mnew_data\u001B[0m \u001B[1;33m=\u001B[0m \u001B[0mself\u001B[0m\u001B[1;33m.\u001B[0m\u001B[0m_mgr\u001B[0m\u001B[1;33m.\u001B[0m\u001B[0mastype\u001B[0m\u001B[1;33m(\u001B[0m\u001B[0mdtype\u001B[0m\u001B[1;33m=\u001B[0m\u001B[0mdtype\u001B[0m\u001B[1;33m,\u001B[0m \u001B[0mcopy\u001B[0m\u001B[1;33m=\u001B[0m\u001B[0mcopy\u001B[0m\u001B[1;33m,\u001B[0m \u001B[0merrors\u001B[0m\u001B[1;33m=\u001B[0m\u001B[0merrors\u001B[0m\u001B[1;33m,\u001B[0m\u001B[1;33m)\u001B[0m\u001B[1;33m\u001B[0m\u001B[1;33m\u001B[0m\u001B[0m\n\u001B[0m\u001B[0;32m   5549\u001B[0m             \u001B[1;32mreturn\u001B[0m \u001B[0mself\u001B[0m\u001B[1;33m.\u001B[0m\u001B[0m_constructor\u001B[0m\u001B[1;33m(\u001B[0m\u001B[0mnew_data\u001B[0m\u001B[1;33m)\u001B[0m\u001B[1;33m.\u001B[0m\u001B[0m__finalize__\u001B[0m\u001B[1;33m(\u001B[0m\u001B[0mself\u001B[0m\u001B[1;33m,\u001B[0m \u001B[0mmethod\u001B[0m\u001B[1;33m=\u001B[0m\u001B[1;34m\"astype\"\u001B[0m\u001B[1;33m)\u001B[0m\u001B[1;33m\u001B[0m\u001B[1;33m\u001B[0m\u001B[0m\n\u001B[0;32m   5550\u001B[0m \u001B[1;33m\u001B[0m\u001B[0m\n",
      "\u001B[1;32mC:\\Anaconda\\envs\\CTVI\\lib\\site-packages\\pandas\\core\\internals\\managers.py\u001B[0m in \u001B[0;36mastype\u001B[1;34m(self, dtype, copy, errors)\u001B[0m\n\u001B[0;32m    602\u001B[0m         \u001B[0mself\u001B[0m\u001B[1;33m,\u001B[0m \u001B[0mdtype\u001B[0m\u001B[1;33m,\u001B[0m \u001B[0mcopy\u001B[0m\u001B[1;33m:\u001B[0m \u001B[0mbool\u001B[0m \u001B[1;33m=\u001B[0m \u001B[1;32mFalse\u001B[0m\u001B[1;33m,\u001B[0m \u001B[0merrors\u001B[0m\u001B[1;33m:\u001B[0m \u001B[0mstr\u001B[0m \u001B[1;33m=\u001B[0m \u001B[1;34m\"raise\"\u001B[0m\u001B[1;33m\u001B[0m\u001B[1;33m\u001B[0m\u001B[0m\n\u001B[0;32m    603\u001B[0m     ) -> \"BlockManager\":\n\u001B[1;32m--> 604\u001B[1;33m         \u001B[1;32mreturn\u001B[0m \u001B[0mself\u001B[0m\u001B[1;33m.\u001B[0m\u001B[0mapply\u001B[0m\u001B[1;33m(\u001B[0m\u001B[1;34m\"astype\"\u001B[0m\u001B[1;33m,\u001B[0m \u001B[0mdtype\u001B[0m\u001B[1;33m=\u001B[0m\u001B[0mdtype\u001B[0m\u001B[1;33m,\u001B[0m \u001B[0mcopy\u001B[0m\u001B[1;33m=\u001B[0m\u001B[0mcopy\u001B[0m\u001B[1;33m,\u001B[0m \u001B[0merrors\u001B[0m\u001B[1;33m=\u001B[0m\u001B[0merrors\u001B[0m\u001B[1;33m)\u001B[0m\u001B[1;33m\u001B[0m\u001B[1;33m\u001B[0m\u001B[0m\n\u001B[0m\u001B[0;32m    605\u001B[0m \u001B[1;33m\u001B[0m\u001B[0m\n\u001B[0;32m    606\u001B[0m     def convert(\n",
      "\u001B[1;32mC:\\Anaconda\\envs\\CTVI\\lib\\site-packages\\pandas\\core\\internals\\managers.py\u001B[0m in \u001B[0;36mapply\u001B[1;34m(self, f, align_keys, **kwargs)\u001B[0m\n\u001B[0;32m    407\u001B[0m                 \u001B[0mapplied\u001B[0m \u001B[1;33m=\u001B[0m \u001B[0mb\u001B[0m\u001B[1;33m.\u001B[0m\u001B[0mapply\u001B[0m\u001B[1;33m(\u001B[0m\u001B[0mf\u001B[0m\u001B[1;33m,\u001B[0m \u001B[1;33m**\u001B[0m\u001B[0mkwargs\u001B[0m\u001B[1;33m)\u001B[0m\u001B[1;33m\u001B[0m\u001B[1;33m\u001B[0m\u001B[0m\n\u001B[0;32m    408\u001B[0m             \u001B[1;32melse\u001B[0m\u001B[1;33m:\u001B[0m\u001B[1;33m\u001B[0m\u001B[1;33m\u001B[0m\u001B[0m\n\u001B[1;32m--> 409\u001B[1;33m                 \u001B[0mapplied\u001B[0m \u001B[1;33m=\u001B[0m \u001B[0mgetattr\u001B[0m\u001B[1;33m(\u001B[0m\u001B[0mb\u001B[0m\u001B[1;33m,\u001B[0m \u001B[0mf\u001B[0m\u001B[1;33m)\u001B[0m\u001B[1;33m(\u001B[0m\u001B[1;33m**\u001B[0m\u001B[0mkwargs\u001B[0m\u001B[1;33m)\u001B[0m\u001B[1;33m\u001B[0m\u001B[1;33m\u001B[0m\u001B[0m\n\u001B[0m\u001B[0;32m    410\u001B[0m             \u001B[0mresult_blocks\u001B[0m \u001B[1;33m=\u001B[0m \u001B[0m_extend_blocks\u001B[0m\u001B[1;33m(\u001B[0m\u001B[0mapplied\u001B[0m\u001B[1;33m,\u001B[0m \u001B[0mresult_blocks\u001B[0m\u001B[1;33m)\u001B[0m\u001B[1;33m\u001B[0m\u001B[1;33m\u001B[0m\u001B[0m\n\u001B[0;32m    411\u001B[0m \u001B[1;33m\u001B[0m\u001B[0m\n",
      "\u001B[1;32mC:\\Anaconda\\envs\\CTVI\\lib\\site-packages\\pandas\\core\\internals\\blocks.py\u001B[0m in \u001B[0;36mastype\u001B[1;34m(self, dtype, copy, errors)\u001B[0m\n\u001B[0;32m    593\u001B[0m             \u001B[0mvals1d\u001B[0m \u001B[1;33m=\u001B[0m \u001B[0mvalues\u001B[0m\u001B[1;33m.\u001B[0m\u001B[0mravel\u001B[0m\u001B[1;33m(\u001B[0m\u001B[1;33m)\u001B[0m\u001B[1;33m\u001B[0m\u001B[1;33m\u001B[0m\u001B[0m\n\u001B[0;32m    594\u001B[0m             \u001B[1;32mtry\u001B[0m\u001B[1;33m:\u001B[0m\u001B[1;33m\u001B[0m\u001B[1;33m\u001B[0m\u001B[0m\n\u001B[1;32m--> 595\u001B[1;33m                 \u001B[0mvalues\u001B[0m \u001B[1;33m=\u001B[0m \u001B[0mastype_nansafe\u001B[0m\u001B[1;33m(\u001B[0m\u001B[0mvals1d\u001B[0m\u001B[1;33m,\u001B[0m \u001B[0mdtype\u001B[0m\u001B[1;33m,\u001B[0m \u001B[0mcopy\u001B[0m\u001B[1;33m=\u001B[0m\u001B[1;32mTrue\u001B[0m\u001B[1;33m)\u001B[0m\u001B[1;33m\u001B[0m\u001B[1;33m\u001B[0m\u001B[0m\n\u001B[0m\u001B[0;32m    596\u001B[0m             \u001B[1;32mexcept\u001B[0m \u001B[1;33m(\u001B[0m\u001B[0mValueError\u001B[0m\u001B[1;33m,\u001B[0m \u001B[0mTypeError\u001B[0m\u001B[1;33m)\u001B[0m\u001B[1;33m:\u001B[0m\u001B[1;33m\u001B[0m\u001B[1;33m\u001B[0m\u001B[0m\n\u001B[0;32m    597\u001B[0m                 \u001B[1;31m# e.g. astype_nansafe can fail on object-dtype of strings\u001B[0m\u001B[1;33m\u001B[0m\u001B[1;33m\u001B[0m\u001B[1;33m\u001B[0m\u001B[0m\n",
      "\u001B[1;32mC:\\Anaconda\\envs\\CTVI\\lib\\site-packages\\pandas\\core\\dtypes\\cast.py\u001B[0m in \u001B[0;36mastype_nansafe\u001B[1;34m(arr, dtype, copy, skipna)\u001B[0m\n\u001B[0;32m    995\u001B[0m     \u001B[1;32mif\u001B[0m \u001B[0mcopy\u001B[0m \u001B[1;32mor\u001B[0m \u001B[0mis_object_dtype\u001B[0m\u001B[1;33m(\u001B[0m\u001B[0marr\u001B[0m\u001B[1;33m)\u001B[0m \u001B[1;32mor\u001B[0m \u001B[0mis_object_dtype\u001B[0m\u001B[1;33m(\u001B[0m\u001B[0mdtype\u001B[0m\u001B[1;33m)\u001B[0m\u001B[1;33m:\u001B[0m\u001B[1;33m\u001B[0m\u001B[1;33m\u001B[0m\u001B[0m\n\u001B[0;32m    996\u001B[0m         \u001B[1;31m# Explicit copy, or required since NumPy can't view from / to object.\u001B[0m\u001B[1;33m\u001B[0m\u001B[1;33m\u001B[0m\u001B[1;33m\u001B[0m\u001B[0m\n\u001B[1;32m--> 997\u001B[1;33m         \u001B[1;32mreturn\u001B[0m \u001B[0marr\u001B[0m\u001B[1;33m.\u001B[0m\u001B[0mastype\u001B[0m\u001B[1;33m(\u001B[0m\u001B[0mdtype\u001B[0m\u001B[1;33m,\u001B[0m \u001B[0mcopy\u001B[0m\u001B[1;33m=\u001B[0m\u001B[1;32mTrue\u001B[0m\u001B[1;33m)\u001B[0m\u001B[1;33m\u001B[0m\u001B[1;33m\u001B[0m\u001B[0m\n\u001B[0m\u001B[0;32m    998\u001B[0m \u001B[1;33m\u001B[0m\u001B[0m\n\u001B[0;32m    999\u001B[0m     \u001B[1;32mreturn\u001B[0m \u001B[0marr\u001B[0m\u001B[1;33m.\u001B[0m\u001B[0mview\u001B[0m\u001B[1;33m(\u001B[0m\u001B[0mdtype\u001B[0m\u001B[1;33m)\u001B[0m\u001B[1;33m\u001B[0m\u001B[1;33m\u001B[0m\u001B[0m\n",
      "\u001B[1;31mValueError\u001B[0m: could not convert string to float: 'EjIFBQAAABMgIA=='"
     ]
    }
   ],
   "source": [
    "volume = pd.read_csv(\"../suzhou/2021/09-01/00.csv\")\n",
    "print(volume[volume['DeviceID']==\"123456789123456789\"])\n",
    "print(volume.dtypes)"
   ],
   "metadata": {
    "collapsed": false,
    "ExecuteTime": {
     "end_time": "2025-03-13T13:38:14.404739Z",
     "start_time": "2025-03-13T13:38:14.365104600Z"
    }
   }
  },
  {
   "cell_type": "code",
   "execution_count": 34,
   "outputs": [],
   "source": [
    "#进行匹配，将卡口流量数据和路网数据进行匹配\n",
    "import os\n",
    "import pandas as pd\n",
    "\n",
    "# 根文件夹路径\n",
    "root_folder = \"../suzhou/2021\"\n",
    "\n",
    "\n",
    "# 循环读取根文件夹下的所有子文件夹\n",
    "for sub_folder in os.listdir(root_folder):\n",
    "    sub_folder_path = os.path.join(root_folder,  sub_folder)  # 获取子文件夹完整路径\n",
    "    # 循环读取子文件夹下的所有 CSV 文件\n",
    "    for file_name in os.listdir(sub_folder_path):\n",
    "        if file_name.endswith(\".csv\"):   # 确保文件是 CSV 文件\n",
    "            file_path = os.path.join(sub_folder_path,  file_name)  # 获取文件完整路径\n",
    "            df = pd.read_csv(file_path)   # 读取 CSV 文件\n",
    "            merged_df = pd.merge(df,  firstProcessRoadCsv, left_on='DeviceID', right_on='device_id', how='left')\n",
    "            merged_df.to_csv(file_path,  index=False)"
   ],
   "metadata": {
    "collapsed": false,
    "ExecuteTime": {
     "end_time": "2025-03-13T13:53:16.257817200Z",
     "start_time": "2025-03-13T13:51:45.081035900Z"
    }
   }
  },
  {
   "cell_type": "code",
   "execution_count": 35,
   "outputs": [],
   "source": [
    "import os\n",
    "import pandas as pd\n",
    "\n",
    "# 根文件夹路径\n",
    "root_folder = \"../suzhou/2022\"\n",
    "\n",
    "\n",
    "# 循环读取根文件夹下的所有子文件夹\n",
    "for sub_folder in os.listdir(root_folder):\n",
    "    sub_folder_path = os.path.join(root_folder,  sub_folder)  # 获取子文件夹完整路径\n",
    "    # 循环读取子文件夹下的所有 CSV 文件\n",
    "    for file_name in os.listdir(sub_folder_path):\n",
    "        if file_name.endswith(\".csv\"):   # 确保文件是 CSV 文件\n",
    "            file_path = os.path.join(sub_folder_path,  file_name)  # 获取文件完整路径\n",
    "            df = pd.read_csv(file_path)   # 读取 CSV 文件\n",
    "            merged_df = pd.merge(df,  firstProcessRoadCsv, left_on='DeviceID', right_on='device_id', how='left')\n",
    "            merged_df.to_csv(file_path,  index=False)"
   ],
   "metadata": {
    "collapsed": false,
    "ExecuteTime": {
     "end_time": "2025-03-13T14:11:03.721757500Z",
     "start_time": "2025-03-13T14:09:35.288324600Z"
    }
   }
  }
 ],
 "metadata": {
  "kernelspec": {
   "display_name": "Python 3",
   "language": "python",
   "name": "python3"
  },
  "language_info": {
   "codemirror_mode": {
    "name": "ipython",
    "version": 2
   },
   "file_extension": ".py",
   "mimetype": "text/x-python",
   "name": "python",
   "nbconvert_exporter": "python",
   "pygments_lexer": "ipython2",
   "version": "2.7.6"
  }
 },
 "nbformat": 4,
 "nbformat_minor": 0
}
